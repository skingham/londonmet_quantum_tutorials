{
 "cells": [
  {
   "cell_type": "markdown",
   "metadata": {},
   "source": [
    "# QFT Multiplication\n",
    "\n",
    "[Quantum arithmetic with the Quantum Fourier Transform](https://arxiv.org/pdf/1411.5949)\n",
    "\n",
    "[Multiplication on Quantum Computers with Qiskit](https://quantumcomputinguk.org/tutorials/multiplication-on-quantum-computers-with-qiskit)\n",
    "\n",
    "[RSA Prime Factorization on IBM Qiskit](https://jisis.org/wp-content/uploads/2023/06/2023.I2.013.pdf)\n",
    "\n",
    "[Optimizing the Quantum Circuit for Solving Boolean Equations Based on Grover Search Algorithm](https://www.researchgate.net/publication/362576430_Optimizing_the_Quantum_Circuit_for_Solving_Boolean_Equations_Based_on_Grover_Search_Algorithm)"
   ]
  },
  {
   "cell_type": "code",
   "execution_count": null,
   "metadata": {},
   "outputs": [],
   "source": []
  }
 ],
 "metadata": {
  "language_info": {
   "name": "python"
  }
 },
 "nbformat": 4,
 "nbformat_minor": 2
}
