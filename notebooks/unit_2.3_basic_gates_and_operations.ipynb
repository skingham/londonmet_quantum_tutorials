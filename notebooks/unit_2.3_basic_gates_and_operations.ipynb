{
 "cells": [
  {
   "cell_type": "markdown",
   "metadata": {},
   "source": [
    "# Basic Quantum Gates in Qiskit, Cirq and Pennylane  \n",
    "**Goals**\n",
    "\n",
    "1. Prepare single‑qubit states with \\(X\\) and \\(H\\).  \n",
    "2. Create a Bell state using CNOT.  \n",
    "3. Observe measurement statistics in three SDKs.  \n",
    "4. Notice the common abstractions (circuits, simulators, counts)."
   ]
  },
  {
   "cell_type": "markdown",
   "metadata": {},
   "source": [
    "## Observations  \n",
    "\n",
    "* All three SDKs use the same gate names (`H`, `CNOT`) and produce $|00\\rangle$ $|11\\rangle$ with roughly equal probability for a Bell state.  \n",
    "* Qiskit and Cirq supply dedicated histogram helpers; in Pennylane we convert samples manually.  \n",
    "* The results confirm that unitary gates preserve norm and that measurement collapses the state into the computational basis."
   ]
  },
  {
   "cell_type": "code",
   "execution_count": null,
   "metadata": {},
   "outputs": [],
   "source": [
    "# Common imports\n",
    "import numpy as np\n",
    "import matplotlib.pyplot as plt"
   ]
  },
  {
   "cell_type": "markdown",
   "metadata": {},
   "source": [
    "## 1  IBM Qiskit"
   ]
  },
  {
   "cell_type": "code",
   "execution_count": null,
   "metadata": {},
   "outputs": [],
   "source": [
    "from qiskit import QuantumCircuit, Aer, execute\n",
    "from qiskit.visualization import plot_histogram, plot_state_city\n",
    "\n",
    "# 1-qubit: |0> --H--> |+>\n",
    "qc1 = QuantumCircuit(1, 1)\n",
    "qc1.h(0)\n",
    "qc1.measure(0, 0)\n",
    "backend = Aer.get_backend(\"qasm_simulator\")\n",
    "counts1 = execute(qc1, backend, shots=1024).result().get_counts()\n",
    "plot_histogram(counts1)"
   ]
  },
  {
   "cell_type": "code",
   "execution_count": null,
   "metadata": {},
   "outputs": [],
   "source": [
    "# 2-qubit Bell state: H + CNOT\n",
    "bell = QuantumCircuit(2, 2)\n",
    "bell.h(0)\n",
    "bell.cx(0, 1)\n",
    "bell.measure([0, 1], [0, 1])\n",
    "counts_bell = execute(bell, backend, shots=1024).result().get_counts()\n",
    "plot_histogram(counts_bell)"
   ]
  },
  {
   "cell_type": "markdown",
   "metadata": {},
   "source": [
    "## 2  Google Cirq"
   ]
  },
  {
   "cell_type": "code",
   "execution_count": null,
   "metadata": {},
   "outputs": [],
   "source": [
    "import cirq\n",
    "\n",
    "# Single qubit |0> --H--> |+>\n",
    "q = cirq.LineQubit(0)\n",
    "circuit_cirq = cirq.Circuit(cirq.H(q), cirq.measure(q, key=\"m\"))\n",
    "sim = cirq.Simulator()\n",
    "result1 = sim.run(circuit_cirq, repetitions=1024)\n",
    "cirq.plot_state_histogram(result1)"
   ]
  },
  {
   "cell_type": "code",
   "execution_count": null,
   "metadata": {},
   "outputs": [],
   "source": [
    "# Bell state\n",
    "q0, q1 = cirq.LineQubit.range(2)\n",
    "bell_circ = cirq.Circuit(cirq.H(q0), cirq.CNOT(q0, q1),\n",
    "                         cirq.measure(q0, q1, key=\"m\"))\n",
    "result_bell = sim.run(bell_circ, repetitions=1024)\n",
    "cirq.plot_state_histogram(result_bell)"
   ]
  },
  {
   "cell_type": "markdown",
   "metadata": {},
   "source": [
    "## 3  Pennylane"
   ]
  },
  {
   "cell_type": "code",
   "execution_count": null,
   "metadata": {},
   "outputs": [],
   "source": [
    "import pennylane as qml\n",
    "\n",
    "dev = qml.device(\"default.qubit\", wires=2, shots=1024)\n",
    "\n",
    "@qml.qnode(dev)\n",
    "def bell_pennylane():\n",
    "    qml.Hadamard(wires=0)\n",
    "    qml.CNOT(wires=[0, 1])\n",
    "    return qml.sample(qml.PauliZ(0)), qml.sample(qml.PauliZ(1))\n",
    "\n",
    "samples = bell_pennylane()\n",
    "# Convert ±1 samples to bit strings\n",
    "bits = ((1 - samples[0])//2) * 2 + ((1 - samples[1])//2)\n",
    "counts = {format(i, \"02b\"): int(np.sum(bits == i)) for i in range(4)}\n",
    "plt.bar(counts.keys(), counts.values())\n",
    "plt.title(\"Bell state counts (Pennylane)\")\n",
    "plt.show()"
   ]
  }
 ],
 "metadata": {
  "language_info": {
   "name": "python"
  }
 },
 "nbformat": 4,
 "nbformat_minor": 2
}
