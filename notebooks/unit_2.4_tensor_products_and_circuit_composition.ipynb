{
 "cells": [
  {
   "cell_type": "markdown",
   "metadata": {},
   "source": [
    "# Tensor Mathematics & Circuit Composition\n",
    "**Goals**\n",
    "\n",
    "1. Illustrate how single‑qubit gates combine via the tensor product to act on larger registers.  \n",
    "2. Demonstrate controlled operations (CNOT, controlled‑$U$, Toffoli) and inspect their unitaries.  \n",
    "3. Verify equivalence between “matrix‑level” tensor products and:\n",
    "    1. QISKIT \n",
    "    1. Cirq circuits.\n",
    "    1. Pennylane QNodes.\n",
    "    1. Julia QML"
   ]
  },
  {
   "cell_type": "code",
   "execution_count": null,
   "metadata": {},
   "outputs": [],
   "source": [
    "import numpy as np\n",
    "import matplotlib.pyplot as plt"
   ]
  },
  {
   "cell_type": "markdown",
   "metadata": {},
   "source": [
    "## 1 Tensor product: $H \\otimes I$\n",
    "\n",
    "*H* on qubit 0, identity on qubit 1."
   ]
  },
  {
   "cell_type": "markdown",
   "metadata": {},
   "source": [
    "---\n",
    "### QISKIT"
   ]
  },
  {
   "cell_type": "code",
   "execution_count": null,
   "metadata": {},
   "outputs": [],
   "source": [
    "from qiskit import QuantumCircuit, Aer, execute\n",
    "from qiskit.quantum_info import Operator, Statevector\n",
    "from qiskit.visualization import plot_histogram, plot_bloch_vector"
   ]
  },
  {
   "cell_type": "code",
   "execution_count": null,
   "metadata": {},
   "outputs": [],
   "source": [
    "# Build circuit: H on qubit 0, I on qubit 1\n",
    "qc = QuantumCircuit(2)\n",
    "qc.h(0)\n",
    "\n",
    "# Circuit unitary\n",
    "U_circ = Operator(qc).data\n",
    "\n",
    "# Analytical Kronecker product\n",
    "H = np.array([[1, 1], [1, -1]]) / np.sqrt(2)\n",
    "I = np.eye(2)\n",
    "U_kron = np.kron(H, I)\n",
    "\n",
    "print(\"Equal matrices? \", np.allclose(U_circ, U_kron))"
   ]
  },
  {
   "cell_type": "markdown",
   "metadata": {},
   "source": [
    "---\n",
    "### Cirq"
   ]
  },
  {
   "cell_type": "code",
   "execution_count": null,
   "metadata": {},
   "outputs": [],
   "source": [
    "import cirq\n",
    "from cirq import protocols"
   ]
  },
  {
   "cell_type": "code",
   "execution_count": null,
   "metadata": {},
   "outputs": [],
   "source": [
    "# Two line qubits\n",
    "q0, q1 = cirq.LineQubit.range(2)\n",
    "\n",
    "# Circuit: H ⊗ I\n",
    "tensor_circ = cirq.Circuit(cirq.H(q0))\n",
    "U_circuit   = protocols.unitary(tensor_circ)\n",
    "\n",
    "# Direct Kronecker product\n",
    "H = np.array([[1, 1],\n",
    "              [1,-1]]) / np.sqrt(2)\n",
    "I = np.eye(2)\n",
    "U_kron = np.kron(H, I)\n",
    "\n",
    "print(\"Circuit unitary equals kron(H, I)?\", np.allclose(U_circuit, U_kron))"
   ]
  },
  {
   "cell_type": "markdown",
   "metadata": {},
   "source": [
    "---\n",
    "### Pennylane"
   ]
  },
  {
   "cell_type": "code",
   "execution_count": null,
   "metadata": {},
   "outputs": [],
   "source": [
    "import pennylane as qml\n",
    "\n",
    "qml.about()"
   ]
  },
  {
   "cell_type": "code",
   "execution_count": null,
   "metadata": {},
   "outputs": [],
   "source": [
    "dev = qml.device(\"default.qubit\", wires=2, shots=None)\n",
    "\n",
    "@qml.qnode(dev)\n",
    "def kron_H_I():\n",
    "    qml.Hadamard(wires=0)        # H ⊗ I\n",
    "    return qml.state()\n",
    "\n",
    "state = kron_H_I()\n",
    "\n",
    "# Extract circuit unitary\n",
    "U_circuit = qml.matrix(kron_H_I)()\n",
    "print(\"Circuit unitary shape:\", U_circuit.shape)\n",
    "\n",
    "# Analytical Kronecker product\n",
    "H = np.array([[1, 1], [1,-1]])/np.sqrt(2)\n",
    "I = np.eye(2)\n",
    "U_kron = np.kron(H, I)\n",
    "print(\"Equal to kron(H, I)?\", np.allclose(U_circuit, U_kron))"
   ]
  },
  {
   "cell_type": "markdown",
   "metadata": {},
   "source": [
    "## 2 CNOT = controlled-$X$"
   ]
  },
  {
   "cell_type": "markdown",
   "metadata": {},
   "source": [
    "---\n",
    "### QISKIT:  Bell state via `H` + `CX`"
   ]
  },
  {
   "cell_type": "code",
   "execution_count": null,
   "metadata": {},
   "outputs": [],
   "source": [
    "bell = QuantumCircuit(2, 2)\n",
    "bell.h(0)\n",
    "bell.cx(0, 1)\n",
    "bell.measure([0, 1], [0, 1])\n",
    "\n",
    "backend = Aer.get_backend(\"qasm_simulator\")\n",
    "counts = execute(bell, backend, shots=1024).result().get_counts()\n",
    "plot_histogram(counts, title=\"Bell-state counts (|00⟩ and |11⟩)\")"
   ]
  },
  {
   "cell_type": "markdown",
   "metadata": {},
   "source": [
    "---\n",
    "### Cirq"
   ]
  },
  {
   "cell_type": "code",
   "execution_count": null,
   "metadata": {},
   "outputs": [],
   "source": [
    "cnot = cirq.Circuit(cirq.CNOT(q0, q1))\n",
    "print(\"CNOT unitary:\\n\", protocols.unitary(cnot))"
   ]
  },
  {
   "cell_type": "markdown",
   "metadata": {},
   "source": [
    "---\n",
    "### Pennylane"
   ]
  },
  {
   "cell_type": "code",
   "execution_count": null,
   "metadata": {},
   "outputs": [],
   "source": [
    "dev = qml.device(\"default.qubit\", wires=2)\n",
    "\n",
    "@qml.qnode(dev)\n",
    "def bell_state():\n",
    "    qml.Hadamard(wires=0)\n",
    "    qml.CNOT(wires=[0, 1])\n",
    "    return qml.state()\n",
    "\n",
    "bell = bell_state()\n",
    "qml.draw(bell_state, expansion_strategy=\"device\")()"
   ]
  },
  {
   "cell_type": "markdown",
   "metadata": {},
   "source": [
    "## 3 Controlled-$U$: example with $U = R_{y}(\\pi/4)$"
   ]
  },
  {
   "cell_type": "markdown",
   "metadata": {},
   "source": [
    "---\n",
    "### QISKIT"
   ]
  },
  {
   "cell_type": "code",
   "execution_count": null,
   "metadata": {},
   "outputs": [],
   "source": [
    "theta = np.pi / 4\n",
    "qc_ctrl = QuantumCircuit(2)\n",
    "qc_ctrl.cry(theta, 0, 1)   # controlled-R_y(π/4)\n",
    "\n",
    "U_ctrl = Operator(qc_ctrl).data\n",
    "print(\"Controlled-Ry matrix shape:\", U_ctrl.shape)"
   ]
  },
  {
   "cell_type": "markdown",
   "metadata": {},
   "source": [
    "---\n",
    "### Cirq"
   ]
  },
  {
   "cell_type": "code",
   "execution_count": null,
   "metadata": {},
   "outputs": [],
   "source": [
    "# Define single-qubit U\n",
    "theta = np.pi/4\n",
    "U = cirq.ry(theta)\n",
    "\n",
    "# Controlled-U via cirq.ControlledGate\n",
    "ctrl_U_gate = U.controlled()\n",
    "ctrl_U = cirq.Circuit(ctrl_U_gate(q0, q1))\n",
    "\n",
    "# Matrix form\n",
    "print(\"Controlled-U matrix shape:\", protocols.unitary(ctrl_U).shape)"
   ]
  },
  {
   "cell_type": "markdown",
   "metadata": {},
   "source": [
    "---\n",
    "### Pennylane"
   ]
  },
  {
   "cell_type": "code",
   "execution_count": null,
   "metadata": {},
   "outputs": [],
   "source": [
    "theta = np.pi/4\n",
    "dev = qml.device(\"default.qubit\", wires=2)\n",
    "\n",
    "@qml.qnode(dev)\n",
    "def ctrl_Ry():\n",
    "    qml.ControlledQubitUnitary(qml.RY(theta, wires=1).matrix, control_wires=0, wires=1)\n",
    "    return qml.state()\n",
    "\n",
    "U_ctrl = qml.matrix(ctrl_Ry)()\n",
    "print(\"Controlled-U matrix:\\n\", U_ctrl)"
   ]
  },
  {
   "cell_type": "markdown",
   "metadata": {},
   "source": [
    "## 4 Toffoli (CCNOT) and decomposition\n",
    "\n",
    "A three‑qubit gate built from single‑ and two‑qubit primitives."
   ]
  },
  {
   "cell_type": "markdown",
   "metadata": {},
   "source": [
    "---\n",
    "### QISKIT: `CX` "
   ]
  },
  {
   "cell_type": "code",
   "execution_count": null,
   "metadata": {},
   "outputs": [],
   "source": [
    "toffoli = QuantumCircuit(3)\n",
    "toffoli.ccx(0, 1, 2)\n",
    "\n",
    "# Standard decomposition in Qiskit\n",
    "decomp = toffoli.decompose()\n",
    "decomp.draw('mpl')"
   ]
  },
  {
   "cell_type": "markdown",
   "metadata": {},
   "source": [
    "---\n",
    "### Cirq"
   ]
  },
  {
   "cell_type": "code",
   "execution_count": null,
   "metadata": {},
   "outputs": [],
   "source": [
    "q2 = cirq.LineQubit(2)\n",
    "toffoli = cirq.TOFFOLI(q0, q1, q2)\n",
    "\n",
    "# Decompose Toffoli into native gates\n",
    "decomp = cirq.Circuit(cirq.decompose_once(toffoli))\n",
    "print(\"Decomposed circuit depth:\", decomp.depth())\n",
    "decomp"
   ]
  },
  {
   "cell_type": "markdown",
   "metadata": {},
   "source": [
    "---\n",
    "### Pennylane\n",
    "\n",
    "Pennylane decomposes `Toffoli` into elementary rotations and `CNOTs` under the hood."
   ]
  },
  {
   "cell_type": "code",
   "execution_count": null,
   "metadata": {},
   "outputs": [],
   "source": [
    "dev = qml.device(\"default.qubit\", wires=3)\n",
    "\n",
    "@qml.qnode(dev)\n",
    "def toffoli_circuit():\n",
    "    qml.Toffoli(wires=[0, 1, 2])\n",
    "    return qml.state()\n",
    "\n",
    "qml.draw(toffoli_circuit, expansion_strategy=\"device\")()"
   ]
  },
  {
   "cell_type": "markdown",
   "metadata": {},
   "source": [
    "### 5 Observations\n",
    "\n",
    "* The Kronecker product `np.kron` reproduces the unitary for independent gates acting on separate qubits.  \n",
    "* Controlled gates expand the dimension by a factor 2 per control qubit; \n",
    "    \n",
    "    Cirq’s `controlled()` wrapper handles this transparently.  \n",
    "* Multi‑qubit gates such as the Toffoli can be decomposed into one‑ and two‑qubit gates; \n",
    "\n",
    "    tensor products and control constructs let us scale small building‑blocks to full algorithms.\n",
    "\n",
    "## 5 QISKIT Observations  \n",
    "\n",
    "* The Kronecker product `np.kron` reproduces the unitary obtained from the circuit where gates act on separate qubits.  \n",
    "* `CX` entangles two qubits after a Hadamard, yielding $|00⟩$ and $|11⟩$ with equal probability.  \n",
    "* Controlled single‑qubit rotations (`cry`) expand to 4 × 4 matrices; their top‑left block is the identity, bottom‑right block is $R_y(\\theta)$.  \n",
    "* The three‑qubit Toffoli decomposes into single‑ and two‑qubit primitives, illustrating how large unitaries are built from a universal gate set.\n",
    "\n",
    "## 5 Discussion\n",
    "\n",
    "* The Kronecker product $\\otimes$ (``np.kron``) reproduces multi‑qubit unitaries obtained from independent single‑qubit gates.  \n",
    "* \\texttt{ControlledQubitUnitary} adds one or more control wires to any single‑qubit unitary, extending dimension by $2^{n_\\text{control}}$.  \n",
    "* Complex gates such as $\\texttt{Toffoli}$ are automatically decomposed into the native gate set, showing how small building blocks scale to larger registers.\n",
    "\n",
    "\n"
   ]
  },
  {
   "cell_type": "markdown",
   "metadata": {},
   "source": [
    "### Further exercises\n",
    "\n",
    "1. Verify that $(H \\otimes H)\\,\\text{CNOT}\\,(H \\otimes H)$ implements a CZ gate.  \n",
    "2. Construct a four‑qubit circuit that prepares the GHZ state and confirm its histogram shows only `0000` and `1111`.  \n",
    "3. Replace the simulator with a real back‑end on:\n",
    "    1. IBM when available. \n",
    "    1. Google Cloud Run when available.\n",
    "    1. Pennylane on IBM via `qml.device(\"qiskit.ibmq\", ...)}` when available."
   ]
  }
 ],
 "metadata": {
  "language_info": {
   "name": "python"
  }
 },
 "nbformat": 4,
 "nbformat_minor": 2
}
