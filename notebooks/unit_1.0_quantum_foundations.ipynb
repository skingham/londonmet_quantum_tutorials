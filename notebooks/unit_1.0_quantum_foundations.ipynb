{
 "cells": [
  {
   "cell_type": "markdown",
   "metadata": {},
   "source": [
    "# Quantum Foundations - Lab 1  \n",
    "Random Bloch Vector & Bell-State Circuit (Qiskit)\n",
    "\n",
    "*Learning goals*  \n",
    "- Visualise an arbitrary single-qubit state on the Bloch sphere.  \n",
    "- Create and measure a Bell (maximally entangled) state.  \n",
    "- Interpret histogram output from a simulator.\n",
    "\n",
    "---\n"
   ]
  },
  {
   "cell_type": "code",
   "execution_count": null,
   "metadata": {},
   "outputs": [],
   "source": [
    "# Cell 1 - Imports\n",
    "import numpy as np\n",
    "from qiskit import QuantumCircuit, Aer, execute\n",
    "from qiskit.visualization import plot_bloch_vector, plot_histogram"
   ]
  },
  {
   "cell_type": "code",
   "execution_count": null,
   "metadata": {},
   "outputs": [],
   "source": [
    "# Cell 2 - Generate and plot a random Bloch vector\n",
    "np.random.seed(42)                       # reproducibility\n",
    "theta = 2 * np.pi * np.random.rand()\n",
    "phi   = 2 * np.pi * np.random.rand()\n",
    "\n",
    "bloch_vec = [\n",
    "    np.sin(theta) * np.cos(phi),         # x-component\n",
    "    np.sin(theta) * np.sin(phi),         # y-component\n",
    "    np.cos(theta)                        # z-component\n",
    "]\n",
    "\n",
    "plot_bloch_vector(bloch_vec)"
   ]
  },
  {
   "cell_type": "code",
   "execution_count": null,
   "metadata": {},
   "outputs": [],
   "source": [
    "# Cell 3 - Build a Bell-state circuit\n",
    "bell = QuantumCircuit(2, 2)\n",
    "bell.h(0)            # create superposition\n",
    "bell.cx(0, 1)        # entangle\n",
    "bell.measure([0, 1], [0, 1])\n",
    "bell.draw('mpl')"
   ]
  },
  {
   "cell_type": "code",
   "execution_count": null,
   "metadata": {},
   "outputs": [],
   "source": [
    "# Cell 4 - Run on Aer simulator and plot results\n",
    "backend = Aer.get_backend('qasm_simulator')\n",
    "job     = execute(bell, backend, shots=1024)\n",
    "counts  = job.result().get_counts()\n",
    "\n",
    "plot_histogram(counts)"
   ]
  }
 ],
 "metadata": {
  "language_info": {
   "name": "python"
  }
 },
 "nbformat": 4,
 "nbformat_minor": 2
}
