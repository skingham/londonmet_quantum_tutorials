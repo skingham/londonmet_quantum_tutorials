{
 "cells": [
  {
   "cell_type": "markdown",
   "metadata": {},
   "source": [
    "# Unit 3.1 - Classical Cryptography Problems  \n",
    "_Number‑theory primer for Shor’s algorithm_\n",
    "\n",
    "**What you will learn**\n",
    "\n",
    "* How modular arithmetic forms finite (cyclic) groups.  \n",
    "* Why fast integer multiplication (Schönhage-Strassen) relies on the discrete Fourier transform (DFT).  \n",
    "* How period‑finding in a cyclic group underpins Shor’s quantum speed‑up.\n",
    "\n",
    "> **Prerequisites:** basic Python, NumPy, complex numbers."
   ]
  },
  {
   "cell_type": "code",
   "execution_count": null,
   "metadata": {},
   "outputs": [],
   "source": [
    "# Cell 1 - Imports\n",
    "import numpy as np\n",
    "from math import gcd"
   ]
  },
  {
   "cell_type": "markdown",
   "metadata": {},
   "source": [
    "## 1  Cyclic groups mod $N$\n",
    "\n",
    "### 1.1 Additive group $\\mathbb Z_N$\n",
    "\n",
    "For a modulus $N$ the set $\\{0,1,\\dots,N-1\\}$ with addition mod $N$ is a cyclic group.\n"
   ]
  },
  {
   "cell_type": "code",
   "execution_count": null,
   "metadata": {},
   "outputs": [],
   "source": [
    "N = 7\n",
    "add_group = [(a, b, (a + b) % N) for a in range(N) for b in range(N)]\n",
    "add_group[:5]  # first five triples (a,b,a⊕b)"
   ]
  },
  {
   "cell_type": "markdown",
   "metadata": {},
   "source": [
    "### 1.2 Multiplicative group $\\mathbb Z_N^{\\times}$\n",
    "\n",
    "For prime $N$ the non‑zero elements form a cyclic multiplicative group of order $N-1$.  \n",
    "We search for a generator $g$ such that $g^k \\bmod N$ cycles through all elements."
   ]
  },
  {
   "cell_type": "code",
   "execution_count": null,
   "metadata": {},
   "outputs": [],
   "source": [
    "def multiplicative_group(N):\n",
    "    return [a for a in range(1, N) if gcd(a, N) == 1]\n",
    "\n",
    "def find_generator(N):\n",
    "    group = multiplicative_group(N)\n",
    "    for g in group:\n",
    "        if len({pow(g, k, N) for k in range(1, N)}) == N - 1:\n",
    "            return g\n",
    "    return None\n",
    "\n",
    "N = 7\n",
    "g = find_generator(N)\n",
    "print(f\"Multiplicative group generators mod {N}: {g}\")"
   ]
  },
  {
   "cell_type": "markdown",
   "metadata": {},
   "source": [
    "## 2  Schönhage-Strassen: convolution = FFT\n",
    "\n",
    "Fast integer multiplication reduces to polynomial convolution, which is accelerated\n",
    "by the discrete Fourier transform (DFT).  \n",
    "Below, two base-$B$ numbers are multiplied via convolution of their digit vectors."
   ]
  },
  {
   "cell_type": "code",
   "execution_count": null,
   "metadata": {},
   "outputs": [],
   "source": [
    "# Cell 2 - Naïve vs FFT-based multiplication\n",
    "from numpy.fft import fft, ifft\n",
    "\n",
    "def schoolbook(a, b, B=10):\n",
    "    return int(a) * int(b)\n",
    "\n",
    "def fft_multiply(a, b, B=10):\n",
    "    # convert to coefficient list\n",
    "    A = [int(d) for d in str(a)][::-1]\n",
    "    Bv = [int(d) for d in str(b)][::-1]\n",
    "    size = len(A) + len(Bv)\n",
    "    fa = fft(A, size)\n",
    "    fb = fft(Bv, size)\n",
    "    coeffs = np.round(ifft(fa * fb).real).astype(int)\n",
    "    # carry handling\n",
    "    carry = 0\n",
    "    for i, c in enumerate(coeffs):\n",
    "        total = c + carry\n",
    "        coeffs[i] = total % 10\n",
    "        carry = total // 10\n",
    "    while carry:\n",
    "        coeffs = np.append(coeffs, carry % 10)\n",
    "        carry //= 10\n",
    "    return int(\"\".join(map(str, coeffs[::-1])))\n",
    "\n",
    "a, b = 123456, 987654\n",
    "print(\"schoolbook :\", schoolbook(a, b))\n",
    "print(\"FFT result :\", fft_multiply(a, b))"
   ]
  },
  {
   "cell_type": "markdown",
   "metadata": {},
   "source": [
    "## 3  Period‑finding intuition\n",
    "\n",
    "Given $f(x)=g^x \\bmod N$, Shor’s algorithm relies on finding the smallest $r$\n",
    "such that $g^r \\equiv 1 \\pmod N$.\n",
    "\n",
    "### 3.1 Classical trial division"
   ]
  },
  {
   "cell_type": "code",
   "execution_count": null,
   "metadata": {},
   "outputs": [],
   "source": [
    "def period(g, N):\n",
    "    r = 1\n",
    "    val = pow(g, r, N)\n",
    "    while val != 1:\n",
    "        r += 1\n",
    "        val = pow(g, r, N)\n",
    "    return r\n",
    "\n",
    "N = 15\n",
    "g = 7\n",
    "print(f\"Period of {g} mod {N} is {period(g, N)}\")"
   ]
  },
  {
   "cell_type": "markdown",
   "metadata": {},
   "source": [
    "### 3.2 Plot $f(x)=g^x \\bmod N$ and observe periodicity"
   ]
  },
  {
   "cell_type": "code",
   "execution_count": null,
   "metadata": {},
   "outputs": [],
   "source": [
    "import matplotlib.pyplot as plt\n",
    "xs  = np.arange(20)\n",
    "ys  = [pow(g, x, N) for x in xs]\n",
    "plt.stem(xs, ys, use_line_collection=True)\n",
    "plt.title(f\"Values of $g^x \\\\bmod N$ (g={g}, N={N})\")\n",
    "plt.xlabel(\"x\")\n",
    "plt.ylabel(\"f(x)\")\n",
    "plt.show()"
   ]
  },
  {
   "cell_type": "markdown",
   "metadata": {},
   "source": [
    "## 4  Take‑aways\n",
    "\n",
    "* Cyclic groups under addition or multiplication mod \\(N$ set the stage for\n",
    "  order‑finding.  \n",
    "* Schönhage-Strassen shows how Fourier analysis accelerates classical arithmetic;\n",
    "  its quantum analogue uses the quantum Fourier transform.  \n",
    "* Period‑finding over $\\mathbb Z_N^{\\times}$ is the heart of Shor’s exponential\n",
    "  speed‑up for factoring."
   ]
  },
  {
   "cell_type": "markdown",
   "metadata": {},
   "source": [
    "### Further exercises\n",
    "\n",
    "1. Write a function to compute discrete logs by brute force and test how the\n",
    "   running time scales with $\\varphi(N)$.  \n",
    "2. Replace the DFT with the quantum Fourier transform (QFT) on a simulator\n",
    "   for $N=15$ using Qiskit."
   ]
  }
 ],
 "metadata": {
  "language_info": {
   "name": "python"
  }
 },
 "nbformat": 4,
 "nbformat_minor": 2
}
