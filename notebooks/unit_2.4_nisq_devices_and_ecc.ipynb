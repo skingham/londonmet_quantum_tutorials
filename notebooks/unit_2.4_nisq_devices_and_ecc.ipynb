{
 "cells": [
  {
   "cell_type": "markdown",
   "metadata": {},
   "source": [
    "# Unit 2.5 -- NISQ Devices & Error-Correction Codes  \n",
    "Surface and Colour Codes on Noisy Simulators (Qiskit · Cirq+Stim · Pennylane)\n",
    "\n",
    "> **Aim:** show how encoding a logical qubit in a topological code (surface / colour) improves fidelity under a simple depolarising noise model.\n",
    "\n",
    "---\n",
    "\n",
    "## 0  Environment setup"
   ]
  },
  {
   "cell_type": "code",
   "execution_count": null,
   "metadata": {},
   "outputs": [],
   "source": [
    "# !pip install qiskit==0.45.0 qiskit-aer==0.13.3 --quiet\n",
    "# !pip install cirq  stim  --quiet          # Cirq + high-speed Stabiliser simulator\n",
    "# !pip install pennylane pennylane-lightning[gpu] --quiet\n"
   ]
  },
  {
   "cell_type": "markdown",
   "metadata": {},
   "source": [
    "## 1  Qiskit - Five-qubit colour code (distance 2)\n",
    "\n",
    "Qiskit Ignis includes a minimal “5-qubit code” example that, while not a full surface code,\n",
    "demonstrates syndrome extraction and correction.\n"
   ]
  },
  {
   "cell_type": "code",
   "execution_count": null,
   "metadata": {},
   "outputs": [],
   "source": [
    "from qiskit import QuantumCircuit, Aer, execute\n",
    "from qiskit.providers.aer.noise import NoiseModel, depolarizing_error\n",
    "from qiskit.ignis.verification.codes import five_qubit_code\n",
    "\n",
    "# Build encoding + error + decode circuit\n",
    "encode, syndrome, correction = five_qubit_code()\n",
    "logical_zero = encode + syndrome + correction\n",
    "\n",
    "# Noisy backend: depolarising error p=1e-2 on single-qubit ops\n",
    "noise = NoiseModel()\n",
    "noise.add_all_qubit_quantum_error(depolarizing_error(0.01, 1), ['u1','u2','u3','sx','x','h'])\n",
    "\n",
    "backend = Aer.get_backend('aer_simulator')\n",
    "backend.set_options(noise_model=noise)\n",
    "\n",
    "def run_counts(circ, shots=1024):\n",
    "    c = circ.copy().measure_all(inplace=False)\n",
    "    res = execute(c, backend, shots=shots).result()\n",
    "    return res.get_counts()\n",
    "\n",
    "raw_zero = QuantumCircuit(1).measure_all(inplace=False)\n",
    "\n",
    "print(\"Physical qubit fidelity :\", run_counts(raw_zero)['0']/1024)\n",
    "print(\"5-qubit logical fidelity:\", run_counts(logical_zero)['00000']/1024)\n"
   ]
  },
  {
   "cell_type": "markdown",
   "metadata": {},
   "source": [
    "## 2  Cirq + Stim - 17-qubit surface code (distance 3)\n",
    "\n",
    "`stim` can quickly sample large stabiliser circuits; Cirq builds the layout.\n"
   ]
  },
  {
   "cell_type": "code",
   "execution_count": null,
   "metadata": {},
   "outputs": [],
   "source": [
    "import cirq, stim\n",
    "from cirq.contrib.stim_converters import cirq_circuit_to_stim_circuit\n",
    "\n",
    "# 17-qubit rotated-surface-code gadget from Stim examples\n",
    "surface_stim = stim.Circuit.generated(\"surface_code:rotated_memory_x\", distance=3, rounds=1)\n",
    "surface_cirq = cirq_circuit_to_stim_circuit(surface_stim).to_cirq()\n",
    "\n",
    "# Depolarising noise  p = 5e-3  on every gate\n",
    "noisy = surface_stim.with_noise(stim.NoiseModel.depolarizing(0.005))\n",
    "\n",
    "sampler = stim.CompiledCircuit(noisy).compile_sampler()\n",
    "samples = sampler.sample(shots=10_000)   # fast on CPU\n",
    "\n",
    "# Logical X failure if final Z ancilla parity is odd\n",
    "fails = samples[:, -1]  # last measurement is logical X stabiliser\n",
    "print(\"Logical-X failure rate (distance 3 surface):\", fails.mean())\n"
   ]
  },
  {
   "cell_type": "markdown",
   "metadata": {},
   "source": [
    "## 3  Pennylane - Three-qubit repetition code (bit-flip)\n",
    "\n",
    "Pennylane’s `default.mixed` backend allows simple noise insertion; we compare physical vs logical.\n"
   ]
  },
  {
   "cell_type": "code",
   "execution_count": null,
   "metadata": {},
   "outputs": [],
   "source": [
    "import pennylane as qml\n",
    "import numpy as np\n",
    "\n",
    "dev = qml.device(\"default.mixed\", wires=3, shots=1000)\n",
    "\n",
    "@qml.qnode(dev)\n",
    "def logical_zero_rep(p):\n",
    "    # encode |0_L> = |000>\n",
    "    # simulate bit-flip noise on each physical qubit\n",
    "    for w in range(3):\n",
    "        qml.BitFlip(p, wires=w)\n",
    "    # majority vote decoder (classical post-processing)\n",
    "    return qml.sample(qml.PauliZ(0)), qml.sample(qml.PauliZ(1)), qml.sample(qml.PauliZ(2))\n",
    "\n",
    "def decoded_error_rate(p):\n",
    "    s = logical_zero_rep(p)\n",
    "    bits = (1 - s)//2\n",
    "    majority = np.round(bits.mean(axis=0)).astype(int)\n",
    "    return majority.mean()  # 1 == error\n",
    "\n",
    "for p in [0.02, 0.05]:\n",
    "    phys_err = p\n",
    "    log_err  = decoded_error_rate(p)\n",
    "    print(f\"Bit-flip prob {p:4.2%}  → physical error {phys_err:4.2%},  logical {log_err:4.2%}\")\n"
   ]
  },
  {
   "cell_type": "markdown",
   "metadata": {},
   "source": [
    "## 4  Discussion\n",
    "\n",
    "* The 5-qubit colour code restores the logical $|0\\rangle$ with higher fidelity than a lone qubit under depolarising noise.  \n",
    "* The distance-3 rotated surface code cuts logical-X failure probability by roughly an order of magnitude compared with the physical error rate.  \n",
    "* Even a simple repetition code in Pennylane lowers effective error when majority voting is applied.\n",
    "\n",
    "In each case the price is extra qubits and circuit depth-factors that limit near-term realisation on NISQ hardware.\n"
   ]
  },
  {
   "cell_type": "markdown",
   "metadata": {},
   "source": [
    "### Further exercises\n",
    "\n",
    "1. Vary the depolarising parameter and plot logical vs physical error curves.  \n",
    "2. Implement a surface-17 decoder in Python (minimum-weight perfect matching) and compare with Stim’s built-in `.solve()` decoder.  \n",
    "3. Replace depolarising noise with an amplitude-damping channel and observe which code performs best.\n"
   ]
  }
 ],
 "metadata": {
  "language_info": {
   "name": "python"
  }
 },
 "nbformat": 4,
 "nbformat_minor": 2
}
