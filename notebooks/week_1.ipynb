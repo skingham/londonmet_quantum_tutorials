{
 "cells": [
  {
   "cell_type": "markdown",
   "id": "361a39b4",
   "metadata": {},
   "source": [
    "# Week 1\n",
    "\n",
    "## Learning Outcomes\n",
    "\n",
    "1. Install and introduction to IBM QISKIT SDK\n",
    "1. Analogue vs gate-based quantum computing\n",
    "1. Qubit superposition\n",
    "1. Bra-ket notation\n",
    "1. Bloch Sphere"
   ]
  },
  {
   "cell_type": "markdown",
   "id": "dbadc0d7",
   "metadata": {},
   "source": [
    "## Qubit Superposition\n",
    "\n",
    "Imagine a single qubit as the smallest unit of quantum information, similar to a classical bit—but with a twist. Instead of being just 0 or 1, a qubit can be in a **superposition** of both. We write this state using **bra-ket notation**, which is a convenient way to represent quantum states. For a qubit, we might write:\n",
    "\n",
    "$$\n",
    "|\\psi\\rangle = \\alpha|0\\rangle + \\beta|1\\rangle,\n",
    "$$\n",
    "\n",
    "where $|0\\rangle$ and $|1\\rangle$ are the two basic states, and $\\alpha$ and $\\beta$ are complex numbers that tell us how much of each state is present. These numbers must satisfy the condition $|\\alpha|^2 + |\\beta|^2 = 1$ (this is called normalization) because they represent probabilities."
   ]
  },
  {
   "cell_type": "markdown",
   "id": "a8bd02cd",
   "metadata": {},
   "source": [
    "Now, to visualize this abstract state, we use the **Bloch sphere**. Think of the Bloch sphere as a globe where every point on its surface represents a possible state of the qubit. Here’s how it works:\n",
    "\n",
    "- The **north pole** of the sphere represents the state \\(|0\\rangle\\).\n",
    "- The **south pole** represents the state \\(|1\\rangle\\).\n",
    "- Any point on the surface between these poles corresponds to a unique superposition of \\(|0\\rangle\\) and \\(|1\\rangle\\).\n",
    "\n",
    "The angles on the Bloch sphere (often labeled \\(\\theta\\) and \\(\\phi\\)) describe the complex coefficients \\(\\alpha\\) and \\(\\beta\\). In simple terms, they tell us the “direction” of our qubit state on the sphere, which in turn tells us the probabilities of measuring the qubit in the \\(|0\\rangle\\) or \\(|1\\rangle\\) state.\n",
    "\n",
    "In summary:\n",
    "- **Bra-ket notation** ($|\\psi\\rangle$) is a compact way to describe quantum states.\n",
    "- A qubit state is a combination (or superposition) of $|0\\rangle$ and $|1\\rangle$.\n",
    "- The **Bloch sphere** is a visual tool that helps us picture these states as points on a sphere, making it easier to understand how qubits can be both 0 and 1 at the same time.\n",
    "\n",
    "This framework gives you the language and visualization needed to explore more advanced quantum computing concepts."
   ]
  },
  {
   "cell_type": "markdown",
   "id": "3ab3a8da",
   "metadata": {},
   "source": [
    "## Plot a Bloch Sphere\n",
    "\n",
    "Looking at the [IBM visualisation documentation](https://www.ibm.com/account/reg/us-en/signup?formid=urx-19776) we can visualise a single Qubit state."
   ]
  },
  {
   "cell_type": "code",
   "execution_count": null,
   "id": "f7457b21-f9ee-4b49-871f-f4cfd479c239",
   "metadata": {},
   "outputs": [],
   "source": [
    "from qiskit.visualization import plot_bloch_vector\n",
    "\n",
    "plot_bloch_vector([0,1,0], title=\"New Bloch Sphere\")"
   ]
  },
  {
   "cell_type": "code",
   "execution_count": null,
   "id": "1c24b3d9",
   "metadata": {},
   "outputs": [],
   "source": [
    "import numpy as np\n",
    "from qiskit.visualization import plot_bloch_vector\n",
    " \n",
    "# You can use spherical coordinates instead of cartesian.\n",
    "plot_bloch_vector([1, np.pi/2, np.pi/3], coord_type='spherical')"
   ]
  },
  {
   "cell_type": "markdown",
   "id": "01ada87e",
   "metadata": {},
   "source": [
    "## Plot a Bloch sphere for multiple Qubits"
   ]
  },
  {
   "cell_type": "code",
   "execution_count": null,
   "id": "2850a893-629a-4841-82dd-56ebf4100191",
   "metadata": {},
   "outputs": [],
   "source": [
    "from qiskit import QuantumCircuit\n",
    "from qiskit.quantum_info import Statevector\n",
    "from qiskit.visualization import plot_bloch_multivector\n",
    " \n",
    "qc = QuantumCircuit(2)\n",
    "qc.h(0)\n",
    "qc.x(1)\n",
    " \n",
    "state = Statevector(qc)\n",
    "plot_bloch_multivector(state)"
   ]
  }
 ],
 "metadata": {
  "kernelspec": {
   "display_name": "py313_ibm_qiskit",
   "language": "python",
   "name": "python3"
  },
  "language_info": {
   "codemirror_mode": {
    "name": "ipython",
    "version": 3
   },
   "file_extension": ".py",
   "mimetype": "text/x-python",
   "name": "python",
   "nbconvert_exporter": "python",
   "pygments_lexer": "ipython3",
   "version": "3.13.2"
  }
 },
 "nbformat": 4,
 "nbformat_minor": 5
}
