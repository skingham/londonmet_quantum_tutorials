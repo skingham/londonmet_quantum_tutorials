{
 "cells": [
  {
   "cell_type": "markdown",
   "metadata": {},
   "source": [
    "# Tensor Mathematics & Circuit Composition with *Julia Yao.jl / QML.jl*\n",
    "\n",
    "**Aims**\n",
    "\n",
    "1. Reproduce a Kronecker product: \\(H \\otimes I\\).\n",
    "2. Build a Bell state via `put!(H)` + `control` (CNOT) and measure.\n",
    "3. Construct a controlled‑\\(U\\) (here \\(R_y(\\pi/4)\\)) and inspect its matrix.\n",
    "4. Create a Toffoli (CCNOT) gate and display its decomposition.\n",
    "\n",
    "NB: Need to use the IJulia kernel.\n",
    "    \n",
    "    Tensor‑mathematics objectives using the Julia packages Yao.jl (core circuit library) and QML.jl (high‑level QML interface)."
   ]
  },
  {
   "cell_type": "code",
   "execution_count": null,
   "metadata": {},
   "outputs": [],
   "source": [
    "# ╔═╡ 0000\n",
    "# Cell 0 - Install / imports\n",
    "using Pkg\n",
    "Pkg.activate(temp=true)\n",
    "Pkg.add([\"Yao\", \"YaoPlots\"])   # only first run\n",
    "\n",
    "using Yao, YaoPlots, LinearAlgebra"
   ]
  },
  {
   "cell_type": "markdown",
   "metadata": {},
   "source": [
    "## 1 Kronecker product: `H ⊗ I`"
   ]
  },
  {
   "cell_type": "code",
   "execution_count": null,
   "metadata": {},
   "outputs": [],
   "source": [
    "# ╔═╡ 0001\n",
    "H = 1/sqrt(2) * [1  1;\n",
    "                 1 -1]\n",
    "\n",
    "I2 = Matrix{Float64}(I, 2, 2)\n",
    "kron_mat = kron(H, I2)\n",
    "\n",
    "# Circuit representation\n",
    "circuit = chain(2, put(1=>H))       # H on qubit 1, I on qubit 2\n",
    "U = mat(circuit)\n",
    "\n",
    "println(\"Equal matrices? \", isapprox(U, kron_mat))"
   ]
  },
  {
   "cell_type": "markdown",
   "metadata": {},
   "source": [
    "## 2 Bell state via `H` + `control`"
   ]
  },
  {
   "cell_type": "code",
   "execution_count": null,
   "metadata": {},
   "outputs": [],
   "source": [
    "# ╔═╡ 0002\n",
    "bell = chain(2, put(1=>H), control(1, 2=>X))   # H(1) then CNOT\n",
    "bell_state = zero_state(2) |> bell\n",
    "\n",
    "display(bell_state)         # amplitude list\n",
    "barplot(probabilities(bell_state); legend=false,\n",
    "        title=\"Bell-state probabilities (|00⟩ + |11⟩)\")"
   ]
  },
  {
   "cell_type": "markdown",
   "metadata": {},
   "source": [
    "## 3 Controlled-$U$: $U = R_y(\\pi/4)$"
   ]
  },
  {
   "cell_type": "code",
   "execution_count": null,
   "metadata": {},
   "outputs": [],
   "source": [
    "# ╔═╡ 0003\n",
    "theta = π/4\n",
    "Ry = cos(theta/2)*I2 - 1im*sin(theta/2)*[0 -1; 1 0]   # matrix form\n",
    "\n",
    "ctrl_Ry = control(1, 2=>matblock(Ry))\n",
    "display(mat(ctrl_Ry))"
   ]
  },
  {
   "cell_type": "markdown",
   "metadata": {},
   "source": [
    "## 4 Toffoli gate and decomposition"
   ]
  },
  {
   "cell_type": "markdown",
   "metadata": {},
   "source": [
    "# ╔═╡ 0004\n",
    "toffoli = control( (1,2), 3=>X )   # 1 & 2 controls → X on 3\n",
    "println(\"Ideal Toffoli depth  :\", depth(toffoli))\n",
    "\n",
    "# Automatic decomposition into ElementaryBlock\n",
    "decomp = decompose(toffoli)\n",
    "plot(decomp; flatten=true, title=\"Toffoli decomposition\")"
   ]
  },
  {
   "cell_type": "markdown",
   "metadata": {},
   "source": [
    "## 5 Observations\n",
    "\n",
    "* `kron` in Julia / LinearAlgebra reproduces the multi‑qubit unitary\n",
    "  of independent gates.\n",
    "* `control` extends any single‑qubit block to a controlled operation.\n",
    "* Yao’s `decompose` reveals how three‑qubit gates reduce to one‑ and\n",
    "  two‑qubit primitives, underscoring scalability from small building\n",
    "  blocks to larger registers."
   ]
  },
  {
   "cell_type": "markdown",
   "metadata": {},
   "source": [
    "### Suggested extensions\n",
    "\n",
    "1. Verify \\((H \\otimes H)\\,\\mathrm{CNOT}\\,(H \\otimes H)\\) implements a CZ gate.\n",
    "2. Build a four‑qubit GHZ state and confirm probabilities for `0000`\n",
    "   and `1111`.\n",
    "3. Swap the default CPU backend for the GPU backend (`CuYao`) to explore\n",
    "   performance differences."
   ]
  }
 ],
 "metadata": {
  "language_info": {
   "name": "python"
  }
 },
 "nbformat": 4,
 "nbformat_minor": 2
}
