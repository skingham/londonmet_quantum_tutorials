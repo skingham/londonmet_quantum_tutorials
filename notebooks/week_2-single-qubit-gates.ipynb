{
 "cells": [
  {
   "cell_type": "markdown",
   "id": "ff7016ce-b3f6-4f6b-ad9d-d6cfcc0ef2cc",
   "metadata": {},
   "source": [
    "# Hadamard Gate\n",
    "\n",
    "## Superposition\n",
    "\n",
    "Last week we stated that a qubit can be in the basic states $|0\\rangle = \\begin{bmatrix} 1 \\\\ 0 \\end{bmatrix}$ and $|1\\rangle = \\begin{bmatrix} 0 \\\\ 1 \\end{bmatrix}$ or in a superposition of those states: $|\\psi\\rangle = \\alpha|0\\rangle + \\beta|1\\rangle$.\n",
    "\n",
    "$$\n",
    "|+\\rangle = |0\\rangle + |1\\rangle \\\\\n",
    "|-\\rangle = |0\\rangle - |1\\rangle\n",
    "$$\n",
    "\n",
    "If we apply the *Hadamard* operator, $H = \\frac{1}{\\sqrt{2}} \\begin{bmatrix} 1 & 1 \\\\ 1 & -1 \\end{bmatrix}$, \n",
    "to q, $|0\\rangle = \\begin{bmatrix} 1 \\\\ 0 \\end{bmatrix}$, \n",
    "and then measure the state of tht qubit state we see roughly 50% one or zero."
   ]
  },
  {
   "cell_type": "code",
   "execution_count": 1,
   "id": "f448a7af-360f-4072-8313-7c6e9fe6c277",
   "metadata": {
    "tags": []
   },
   "outputs": [
    {
     "data": {
      "image/png": "[encoded data removed]",
      "text/plain": [
       "<Figure size 413.165x200.667 with 1 Axes>"
      ]
     },
     "execution_count": 1,
     "metadata": {},
     "output_type": "execute_result"
    }
   ],
   "source": [
    "from qiskit import QuantumCircuit\n",
    "# Create a new circuit with one qubit and add a Hadamard gate to qubit 0\n",
    "qc = QuantumCircuit(1)\n",
    "qc.h(0)\n",
    "qc.measure_all()\n",
    "qc.draw(\"mpl\")"
   ]
  },
  {
   "cell_type": "markdown",
   "id": "2d680777-f9d1-45d8-86fa-1dfda6a3b8e5",
   "metadata": {},
   "source": [
    "Applying the Hadamard operator gives the state:\n",
    "\n",
    "$$\n",
    "\\frac{1}{\\sqrt{2}} \\begin{bmatrix} 1 & 1 \\\\ 1 & -1 \\end{bmatrix} \\begin{bmatrix} 1 \\\\ 0 \\end{bmatrix} = \\begin{bmatrix} \\frac{1}{\\sqrt{2}} \\\\ \\frac{1}{\\sqrt{2}} \\end{bmatrix}\n",
    "$$\n",
    "\n",
    "Probabilies are calculated by taking the sum of the squares of the absolute values of the amplitudes, giving a 50% chance of measuring either 0 or 1:\n",
    "\n",
    "$$\n",
    "|\\frac{1}{\\sqrt{2}}|^2 + |\\frac{1}{\\sqrt{2}}|^2 = 1\n",
    "$$"
   ]
  },
  {
   "cell_type": "code",
   "execution_count": 2,
   "id": "8508a5af-cf94-4883-b051-84314adbee4d",
   "metadata": {
    "tags": []
   },
   "outputs": [
    {
     "ename": "ModuleNotFoundError",
     "evalue": "No module named 'qiskit_aer'",
     "output_type": "error",
     "traceback": [
      "\u001b[0;31m---------------------------------------------------------------------------\u001b[0m",
      "\u001b[0;31mModuleNotFoundError\u001b[0m                       Traceback (most recent call last)",
      "Cell \u001b[0;32mIn[2], line 1\u001b[0m\n\u001b[0;32m----> 1\u001b[0m \u001b[38;5;28;01mfrom\u001b[39;00m \u001b[38;5;21;01mqiskit_aer\u001b[39;00m \u001b[38;5;28;01mimport\u001b[39;00m AerSimulator\n\u001b[1;32m      2\u001b[0m \u001b[38;5;66;03m# Transpile for simulator\u001b[39;00m\n\u001b[1;32m      3\u001b[0m backend \u001b[38;5;241m=\u001b[39m AerSimulator()\n",
      "\u001b[0;31mModuleNotFoundError\u001b[0m: No module named 'qiskit_aer'"
     ]
    }
   ],
   "source": [
    "from qiskit_aer import AerSimulator\n",
    "# Transpile for simulator\n",
    "backend = AerSimulator()\n",
    "circ = transpile(qc, backend)\n",
    "\n",
    "# Run and get counts\n",
    "result = backend.run(circ, shots=100).result()\n",
    "counts = result.get_counts(circ)\n",
    "plot_histogram(counts, title='Superposition counts')"
   ]
  },
  {
   "cell_type": "markdown",
   "id": "ae4f66ee-24de-43f5-a351-ebd26cebb2ae",
   "metadata": {},
   "source": [
    "## Entanglement and Bell States\n",
    "\n",
    "John Bell {cite:p} proved that the *spooky action at a distance* that Einstien, Podolsky & Rosen first pointed out, that bell state correlation is stronger that could exist in classical systems.  \n",
    "Bell's 1964 experiment proved that there was no hidden variable being shared between the entangled qubits.\n",
    "\n",
    "Measuring one qubit, in an entangled state, instantaneously determines the value of the other.  \n",
    "From his experiment he showed four unique distinguishable orthogonal entangled states that are often called the Bell states:\n",
    "($\\Phi^+, \\Phi^-, \\Psi^+, \\Psi^-$).\n",
    "\n",
    "$$\n",
    "|\\Phi^+\\rangle = \\frac{1}{\\sqrt{2}} (|00\\rangle + |11\\rangle)  \\\\\n",
    "|\\Phi^-\\rangle = \\frac{1}{\\sqrt{2}} (|00\\rangle + |11\\rangle) \\\\\n",
    "|\\Psi^+\\rangle = \\frac{1}{\\sqrt{2}}  (|01\\rangle + |10\\rangle) \\\\\n",
    "|\\Psi^-\\rangle = \\frac{1}{\\sqrt{2}}  (|01\\rangle + |10\\rangle) \n",
    "$$\n",
    "\n",
    "We also saw a simple circuit with a *Hadamard Gate* and a *Controlled Not (CNOT)* gate.\n"
   ]
  },
  {
   "cell_type": "code",
   "execution_count": null,
   "id": "f46a1e8c-c478-460f-b771-81fcbf4ef0d7",
   "metadata": {
    "tags": []
   },
   "outputs": [
    {
     "name": "stdout",
     "output_type": "stream",
     "text": [
      "PrimitiveResult([SamplerPubResult(data=DataBin(), metadata={'shots': 100, 'circuit_metadata': {}, 'simulator_metadata': {'time_taken_parameter_binding': 4.152e-06, 'max_memory_mb': 131072, 'time_taken_execute': 9.5401e-05, 'omp_enabled': True, 'max_gpu_memory_mb': 0, 'parallel_experiments': 1}})], metadata={'version': 2})\n"
     ]
    },
    {
     "name": "stderr",
     "output_type": "stream",
     "text": [
      "/Users/skingham/Library/Anaconda/envs/py313_ibm_qiskit/lib/python3.13/site-packages/qiskit_aer/primitives/sampler_v2.py:135: UserWarning: The 0-th pub's circuit has no output classical registers and so the result will be empty. Did you mean to add measurement instructions?\n",
      "  warnings.warn(\n"
     ]
    },
    {
     "ename": "AttributeError",
     "evalue": "'DataBin' object has no attribute 'meas'",
     "output_type": "error",
     "traceback": [
      "\u001b[31m---------------------------------------------------------------------------\u001b[39m",
      "\u001b[31mAttributeError\u001b[39m                            Traceback (most recent call last)",
      "\u001b[36mCell\u001b[39m\u001b[36m \u001b[39m\u001b[32mIn[39]\u001b[39m\u001b[32m, line 31\u001b[39m\n\u001b[32m     29\u001b[39m pub_result = result[\u001b[32m0\u001b[39m]\n\u001b[32m     30\u001b[39m \u001b[38;5;66;03m# Show the histogram\u001b[39;00m\n\u001b[32m---> \u001b[39m\u001b[32m31\u001b[39m plot_histogram(\u001b[43mpub_result\u001b[49m\u001b[43m.\u001b[49m\u001b[43mdata\u001b[49m\u001b[43m.\u001b[49m\u001b[43mmeas\u001b[49m.get_counts())\n\u001b[32m     33\u001b[39m \u001b[38;5;66;03m# Tell Qiskit how to simulate our circuit\u001b[39;00m\n\u001b[32m     34\u001b[39m backend = AerSimulator()\n",
      "\u001b[31mAttributeError\u001b[39m: 'DataBin' object has no attribute 'meas'"
     ]
    }
   ],
   "source": [
    "from qiskit import transpile\n",
    "from qiskit.circuit.library import RealAmplitudes\n",
    "from qiskit.quantum_info import SparsePauliOp\n",
    "from qiskit_aer import AerSimulator\n",
    "from qiskit.transpiler.preset_passmanagers import generate_preset_pass_manager\n",
    "from qiskit import QuantumCircuit\n",
    "from qiskit_aer.primitives import SamplerV2 as Sampler\n",
    "from qiskit.visualization import plot_histogram\n",
    "\n",
    "# Create a quantum circuit with one qubit\n",
    "qc = QuantumCircuit(1)\n",
    "\n",
    "# Apply the Hadamard gate\n",
    "qc.h(0)\n",
    "\n",
    "# measure the qubit\n",
    "#qc.measure_all()\n",
    " \n",
    "noisy_sampler = Sampler(\n",
    "    options=dict(backend_options=dict())\n",
    ")\n",
    "# The circuit needs to be transpiled to the AerSimulator target\n",
    "pass_manager = generate_preset_pass_manager(3, AerSimulator())\n",
    "isa_circuit = pass_manager.run(qc)\n",
    "pub = (isa_circuit, [0.1] * qc.num_parameters, 100)\n",
    "job = noisy_sampler.run([pub])\n",
    "result = job.result()\n",
    "print(result)\n",
    "pub_result = result[0]\n",
    "# Show the histogram\n",
    "plot_histogram(pub_result.data.meas.get_counts())\n",
    "\n",
    "# Tell Qiskit how to simulate our circuit\n",
    "backend = AerSimulator()\n",
    "\n",
    "from qiskit_ibm_runtime import EstimatorV2 as Estimator\n",
    "estimator = Estimator(AerSimulator())\n",
    "\n",
    "# Do the simulation, returning the result\n",
    "#result = execute(qc,backend, shots=100).result()\n",
    "\n",
    "#pm = generate_preset_pass_manager(backend=backend, optimization_level=1)\n",
    "#isa_circuit = pm.run(qc)\n",
    "#job = estimator.run([(qc, [0.1] * qc.num_parameters)])\n",
    "#job_result = job.result()\n",
    "\n",
    "\n",
    "# get the probability distribution\n",
    "#counts = job_result.get_counts()\n",
    "\n",
    "# Show the histogram\n",
    "#plot_histogram(counts)"
   ]
  },
  {
   "cell_type": "code",
   "execution_count": null,
   "id": "4ff5c59c-c838-456e-bb12-013f897253cc",
   "metadata": {
    "tags": []
   },
   "outputs": [
    {
     "name": "stdout",
     "output_type": "stream",
     "text": [
      "expectation values : psi1 = [ 1.55902981 -1.0961936 ], psi2 = 0.18080505686227172\n",
      "counts for Bell circuit : {'11': 72, '00': 56}\n",
      "counts for parameterized circuit : {'11': 424, '01': 377, '00': 139, '10': 84}\n"
     ]
    }
   ],
   "source": [
    "from qiskit import transpile\n",
    "from qiskit.circuit.library import RealAmplitudes\n",
    "from qiskit.quantum_info import SparsePauliOp\n",
    "from qiskit_aer import AerSimulator\n",
    "\n",
    "backend = AerSimulator()\n",
    "# --------------------------\n",
    "# Simulating using estimator\n",
    "#---------------------------\n",
    "from qiskit_aer.primitives import EstimatorV2\n",
    "\n",
    "psi1 = transpile(RealAmplitudes(num_qubits=2, reps=2), backend, optimization_level=0)\n",
    "psi2 = transpile(RealAmplitudes(num_qubits=2, reps=3), backend, optimization_level=0)\n",
    "\n",
    "H1 = SparsePauliOp.from_list([(\"II\", 1), (\"IZ\", 2), (\"XI\", 3)])\n",
    "H2 = SparsePauliOp.from_list([(\"IZ\", 1)])\n",
    "H3 = SparsePauliOp.from_list([(\"ZI\", 1), (\"ZZ\", 1)])\n",
    "\n",
    "theta1 = [0, 1, 1, 2, 3, 5]\n",
    "theta2 = [0, 1, 1, 2, 3, 5, 8, 13]\n",
    "theta3 = [1, 2, 3, 4, 5, 6]\n",
    "\n",
    "estimator = EstimatorV2()\n",
    "\n",
    "# calculate [ [<psi1(theta1)|H1|psi1(theta1)>,\n",
    "#              <psi1(theta3)|H3|psi1(theta3)>],\n",
    "#             [<psi2(theta2)|H2|psi2(theta2)>] ]\n",
    "job = estimator.run(\n",
    "    [\n",
    "        (psi1, [H1, H3], [theta1, theta3]),\n",
    "        (psi2, H2, theta2)\n",
    "    ],\n",
    "    precision=0.01\n",
    ")\n",
    "result = job.result()\n",
    "print(f\"expectation values : psi1 = {result[0].data.evs}, psi2 = {result[1].data.evs}\")\n",
    "\n",
    "# --------------------------\n",
    "# Simulating using sampler\n",
    "# --------------------------\n",
    "from qiskit_aer.primitives import SamplerV2\n",
    "from qiskit import QuantumCircuit\n",
    "\n",
    "# create a Bell circuit\n",
    "bell = QuantumCircuit(2)\n",
    "bell.h(0)\n",
    "bell.cx(0, 1)\n",
    "bell.measure_all()\n",
    "\n",
    "# create two parameterized circuits\n",
    "pqc = RealAmplitudes(num_qubits=2, reps=2)\n",
    "pqc.measure_all()\n",
    "pqc = transpile(pqc, sim, optimization_level=0)\n",
    "pqc2 = RealAmplitudes(num_qubits=2, reps=3)\n",
    "pqc2.measure_all()\n",
    "pqc2 = transpile(pqc2, sim, optimization_level=0)\n",
    "\n",
    "theta1 = [0, 1, 1, 2, 3, 5]\n",
    "theta2 = [0, 1, 2, 3, 4, 5, 6, 7]\n",
    "\n",
    "# initialization of the sampler\n",
    "sampler = SamplerV2()\n",
    "\n",
    "# collect 128 shots from the Bell circuit\n",
    "job = sampler.run([bell], shots=128)\n",
    "job_result = job.result()\n",
    "print(f\"counts for Bell circuit : {job_result[0].data.meas.get_counts()}\")\n",
    " \n",
    "# run a sampler job on the parameterized circuits\n",
    "job2 = sampler.run([(pqc, theta1), (pqc2, theta2)])\n",
    "job_result = job2.result()\n",
    "print(f\"counts for parameterized circuit : {job_result[0].data.meas.get_counts()}\")\n",
    "\n",
    "# --------------------------------------------------\n",
    "# Simulating with noise model from actual hardware\n",
    "# --------------------------------------------------\n",
    "#from qiskit_ibm_runtime import QiskitRuntimeService\n",
    "#provider = QiskitRuntimeService(channel='ibm_quantum', token=\"set your own token here\")\n",
    "#backend = provider.get_backend(\"ibm_kyoto\")\n",
    "\n",
    "# create sampler from the actual backend\n",
    "#sampler = SamplerV2.from_backend(backend)\n",
    "\n",
    "# run a sampler job on the parameterized circuits with noise model of the actual hardware\n",
    "#bell_t = transpile(bell, AerSimulator(basis_gates=[\"ecr\", \"id\", \"rz\", \"sx\"]), optimization_level=0)\n",
    "#job3 = sampler.run([bell_t], shots=128)\n",
    "#job_result = job3.result()\n",
    "#print(f\"counts for Bell circuit w/noise: {job_result[0].data.meas.get_counts()}\")\n"
   ]
  },
  {
   "cell_type": "code",
   "execution_count": null,
   "id": "0ad12e28-bbd6-4919-8c6b-f24929ee14b2",
   "metadata": {
    "tags": []
   },
   "outputs": [
    {
     "ename": "ImportError",
     "evalue": "cannot import name 'execute' from 'qiskit' (/Users/skingham/Library/Anaconda/envs/py313_ibm_qiskit/lib/python3.13/site-packages/qiskit/__init__.py)",
     "output_type": "error",
     "traceback": [
      "\u001b[31m---------------------------------------------------------------------------\u001b[39m",
      "\u001b[31mImportError\u001b[39m                               Traceback (most recent call last)",
      "\u001b[36mCell\u001b[39m\u001b[36m \u001b[39m\u001b[32mIn[32]\u001b[39m\u001b[32m, line 1\u001b[39m\n\u001b[32m----> \u001b[39m\u001b[32m1\u001b[39m \u001b[38;5;28;01mfrom\u001b[39;00m\u001b[38;5;250m \u001b[39m\u001b[34;01mqiskit\u001b[39;00m\u001b[38;5;250m \u001b[39m\u001b[38;5;28;01mimport\u001b[39;00m QuantumCircuit, execute, Aer\n\u001b[32m      3\u001b[39m \u001b[38;5;28;01mfrom\u001b[39;00m\u001b[38;5;250m \u001b[39m\u001b[34;01mqiskit\u001b[39;00m\u001b[34;01m.\u001b[39;00m\u001b[34;01mvisualization\u001b[39;00m\u001b[38;5;250m \u001b[39m\u001b[38;5;28;01mimport\u001b[39;00m plot_histogram\n\u001b[32m      4\u001b[39m \u001b[38;5;28;01mfrom\u001b[39;00m\u001b[38;5;250m \u001b[39m\u001b[34;01mqiskit_ibm_runtime\u001b[39;00m\u001b[34;01m.\u001b[39;00m\u001b[34;01mfake_provider\u001b[39;00m\u001b[38;5;250m \u001b[39m\u001b[38;5;28;01mimport\u001b[39;00m FakeAlmadenV2\n",
      "\u001b[31mImportError\u001b[39m: cannot import name 'execute' from 'qiskit' (/Users/skingham/Library/Anaconda/envs/py313_ibm_qiskit/lib/python3.13/site-packages/qiskit/__init__.py)"
     ]
    }
   ],
   "source": [
    "from qiskit import QuantumCircuit, execute, Aer\n",
    "\n",
    "from qiskit.visualization import plot_histogram\n",
    "from qiskit_ibm_runtime.fake_provider import FakeAlmadenV2\n",
    "backend = FakeAlmadenV2()\n",
    "\n",
    "\n",
    "\n",
    "# Create a quantum circuit with one qubit\n",
    "qc = QuantumCircuit(1)\n",
    "\n",
    "# Apply the Hadamard gate\n",
    "qc.h(0)\n",
    "\n",
    "# measure the qubit\n",
    "qc.measure_all()\n",
    "\n",
    "# Tell Qiskit how to simulate our circuit\n",
    "backend = Aer.get_backend('qasm_simulator') \n",
    "\n",
    "# Do the simulation, returning the result\n",
    "result = execute(qc,backend, shots=100).result()\n",
    "\n",
    "# get the probability distribution\n",
    "counts = result.get_counts()\n",
    "\n",
    "# Show the histogram\n",
    "plot_histogram(counts)"
   ]
  },
  {
   "cell_type": "code",
   "execution_count": null,
   "id": "74c5e48f-8874-409f-b2bb-d3bf9d6e3a0f",
   "metadata": {},
   "outputs": [
    {
     "data": {
      "image/png": "[encoded data removed]",
      "text/plain": [
       "<Figure size 287.294x200.667 with 1 Axes>"
      ]
     },
     "execution_count": 1,
     "metadata": {},
     "output_type": "execute_result"
    }
   ],
   "source": [
    "from qiskit import QuantumCircuit\n",
    "\n",
    "# Create a new circuit with two qubits\n",
    "qc = QuantumCircuit(2)\n",
    " \n",
    "# Add a Hadamard gate to qubit 0\n",
    "qc.h(0)\n",
    "\n",
    "# Perform a controlled-X gate on qubit 1, controlled by qubit 0\n",
    "qc.cx(0, 1)\n",
    "qc.draw(\"mpl\")"
   ]
  },
  {
   "cell_type": "code",
   "execution_count": null,
   "id": "eace898e-d959-4def-9043-2d63f9c97719",
   "metadata": {},
   "outputs": [],
   "source": []
  },
  {
   "cell_type": "markdown",
   "id": "558d4525-fc13-4582-8ff3-1842f0782032",
   "metadata": {},
   "source": [
    "https://www.nature.com/articles/s41566-024-01403-4\n",
    " \n",
    "https://www.quixquantum.com/products/special-purpose-quantum-computer\n",
    " \n",
    "https://opg.optica.org/optica/fulltext.cfm?uri=optica-4-1-8&id=356755\n",
    " \n",
    "https://arxiv.org/pdf/2408.08138"
   ]
  },
  {
   "cell_type": "markdown",
   "id": "4692c511-848a-49d1-9927-38061e54d6b3",
   "metadata": {},
   "source": [
    "https://www.cl.cam.ac.uk/teaching/1920/QuantComp/Quantum_Computing_Lecture_2.pdf\n",
    "https://web.eecs.utk.edu/~bmaclenn/Classes/494-594-UC-F13/handouts/LNUC-III.A.pdf\n",
    "http://www.macs.hw.ac.uk/~des/qcnotesaims17.pdf\n",
    "https://web.eecs.utk.edu/~bmaclenn/Classes/494-594-UC-F13/handouts/LNUC-III.A.pdf\n",
    "https://www.intoquantum.pub/p/all-the-math-that-you-need-to-start-312\n",
    "https://kakashi007.medium.com/maths-for-quantum-computing-a-brief-introduction-of-quantum-computing-part-2-4322c1ab140d\n",
    "https://www.henryyuen.net/fall2019/scribe1-2.pdf\n",
    "https://people.eecs.berkeley.edu/~vazirani/s09quantum/notes/lecture2.pdf\n",
    "https://dc.ewu.edu/cgi/viewcontent.cgi?params=/context/theses/article/1035/&path_info=Ryan_Downie_Final_Thesis_Spring_2012.pdf"
   ]
  },
  {
   "cell_type": "markdown",
   "id": "f7c7f8d7-4dcc-4bad-ba05-558e2001ab25",
   "metadata": {},
   "source": [
    "## Superdense Encoding\n",
    "\n",
    "As desciibed in {cite:p}:`Nielsen:2000` (Nielsen & Chuang pp97-98), it involves two parties, Alice and Bob, who are a long way from each other.  \n",
    "The goal in to transmit some classical information from Alice to Bob.\n",
    "We can show how Alice can send two classical bits of information to Bob by sending only one single qubit.\n",
    "\n",
    "In the initial setup, Alica and Bob share a pair of quibits in the entagled stat $|\\psi\\rangle = $ $ \\frac{|00 \\rangle + |11\\rangle}{\\sqrt{2}}$.\n",
    "\n",
    "Alicae is in possession of the first qubit, and Bob has possition of the second.\n"
   ]
  },
  {
   "cell_type": "code",
   "execution_count": null,
   "id": "0e823fcd-8635-4ea7-8d72-00bc34584fa2",
   "metadata": {},
   "outputs": [],
   "source": [
    "from qiskit import QuantumCircuit, ClassicalRegister, QuantumRegister\n",
    "from qiskit import available_backends, execute\n",
    "# Create two quantum and classical registers\n",
    "q = QuantumRegister(2)\n",
    "c = ClassicalRegister(2)\n",
    "qc = QuantumCircuit(q, c)"
   ]
  },
  {
   "cell_type": "code",
   "execution_count": null,
   "id": "4f3a1476-850f-4805-b7dd-055f0e565d23",
   "metadata": {
    "tags": []
   },
   "outputs": [
    {
     "data": {
      "image/png": "[encoded data removed]",
      "text/plain": [
       "<Figure size 287.294x200.667 with 1 Axes>"
      ]
     },
     "execution_count": 29,
     "metadata": {},
     "output_type": "execute_result"
    }
   ],
   "source": [
    "from qiskit import QuantumCircuit\n",
    "from qiskit.circuit import Parameter\n",
    " \n",
    "# circuit for which you want to obtain the expected value\n",
    "qc = QuantumCircuit(2)\n",
    "#qc.ry(Parameter('theta'), 0)\n",
    "qc.h(0)\n",
    "qc.cx(0,1)\n",
    "qc.draw(\"mpl\", style=\"iqp\")"
   ]
  },
  {
   "cell_type": "code",
   "execution_count": null,
   "id": "577ad60b-20e4-400f-9b0c-a62d869832b6",
   "metadata": {
    "tags": []
   },
   "outputs": [
    {
     "name": "stdout",
     "output_type": "stream",
     "text": [
      " > Result class: <class 'qiskit.primitives.containers.primitive_result.PrimitiveResult'>\n",
      " > Expectation value: 3.999999999999999\n",
      " > Metadata: {'target_precision': 0.0, 'circuit_metadata': {}}\n"
     ]
    }
   ],
   "source": [
    "from qiskit.quantum_info import SparsePauliOp\n",
    "import numpy as np\n",
    " \n",
    "# observable(s) whose expected values you want to compute\n",
    "from qiskit.quantum_info import SparsePauliOp\n",
    "observable = SparsePauliOp([\"II\", \"XX\", \"YY\", \"ZZ\"], coeffs=[1, 1, -1, 1])\n",
    " \n",
    "# value(s) for the circuit parameter(s)\n",
    "parameter_values = [] #[[0], [np.pi/6], [np.pi/2]]\n",
    "\n",
    "# Generate a pass manager without providing a backend\n",
    "from qiskit.transpiler.preset_passmanagers import generate_preset_pass_manager\n",
    " \n",
    "pm = generate_preset_pass_manager(optimization_level=1)\n",
    "isa_circuit = pm.run(qc)\n",
    "isa_observable = observable.apply_layout(isa_circuit.layout)\n",
    "\n",
    "from qiskit.primitives import StatevectorEstimator\n",
    "estimator = StatevectorEstimator()\n",
    "\n",
    "job = estimator.run([(isa_circuit, isa_observable, parameter_values)])\n",
    "result = job.result()\n",
    "print(f\" > Result class: {type(result)}\")\n",
    "print(f\" > Expectation value: {result[0].data.evs}\")\n",
    "print(f\" > Metadata: {result[0].metadata}\")"
   ]
  },
  {
   "cell_type": "code",
   "execution_count": null,
   "id": "e284a70f-028a-494e-a3cf-b22a00bbd2c2",
   "metadata": {},
   "outputs": [],
   "source": []
  }
 ],
 "metadata": {
  "kernelspec": {
   "display_name": "py312_qiskit",
   "language": "python",
   "name": "python3"
  },
  "language_info": {
   "codemirror_mode": {
    "name": "ipython",
    "version": 3
   },
   "file_extension": ".py",
   "mimetype": "text/x-python",
   "name": "python",
   "nbconvert_exporter": "python",
   "pygments_lexer": "ipython3",
   "version": "3.12.2"
  }
 },
 "nbformat": 4,
 "nbformat_minor": 5
}
