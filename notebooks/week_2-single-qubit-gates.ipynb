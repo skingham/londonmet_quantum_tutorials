{
 "cells": [
  {
   "cell_type": "markdown",
   "id": "ff7016ce-b3f6-4f6b-ad9d-d6cfcc0ef2cc",
   "metadata": {},
   "source": [
    "# Hadamard Gate\n",
    "\n",
    "Last week we stated that a qubit can be in the basic states $|0\\rangle$ and $|1\\rangle$ or in a superposition\n",
    "of those states: $|\\psi\\rangle = \\alpha|0\\rangle + \\beta|1\\rangle$.\n",
    "\n",
    "We also saw a simple circuit with a *Hadamard Gate* and a *Controlled Not (CNOT)* gate.\n"
   ]
  },
  {
   "cell_type": "code",
   "execution_count": null,
   "id": "74c5e48f-8874-409f-b2bb-d3bf9d6e3a0f",
   "metadata": {},
   "outputs": [],
   "source": []
  }
 ],
 "metadata": {
  "kernelspec": {
   "display_name": "ibm-qiskit",
   "language": "python",
   "name": "ibm-qiskit"
  },
  "language_info": {
   "codemirror_mode": {
    "name": "ipython",
    "version": 3
   },
   "file_extension": ".py",
   "mimetype": "text/x-python",
   "name": "python",
   "nbconvert_exporter": "python",
   "pygments_lexer": "ipython3",
   "version": "3.13.2"
  }
 },
 "nbformat": 4,
 "nbformat_minor": 5
}
