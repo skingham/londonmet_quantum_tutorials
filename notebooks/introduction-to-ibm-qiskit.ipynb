{
 "cells": [
  {
   "cell_type": "markdown",
   "id": "7a3845f3",
   "metadata": {},
   "source": [
    "Please refer to [the IBM Hello World Guide](https://docs.quantum.ibm.com/guides/hello-world)"
   ]
  },
  {
   "cell_type": "code",
   "execution_count": null,
   "id": "f3ef4122-ba85-4f37-ac4a-fa8e31e97d16",
   "metadata": {},
   "outputs": [],
   "source": [
    "# Print the version of Qiskit we're using\n",
    "import qiskit\n",
    "\n",
    "print(qiskit.version.VERSION)"
   ]
  },
  {
   "cell_type": "code",
   "execution_count": null,
   "id": "c5408af6-6813-4c96-8a3b-c2fc22ab2a83",
   "metadata": {},
   "outputs": [],
   "source": [
    "from qiskit import QuantumCircuit\n",
    "\n",
    "# Create a new circuit with two qubits\n",
    "qc = QuantumCircuit(2)\n",
    " \n",
    "# Add a Hadamard gate to qubit 0\n",
    "qc.h(0)\n",
    " \n",
    "# Perform a controlled-X gate on qubit 1, controlled by qubit 0\n",
    "qc.cx(0, 1)\n",
    " \n",
    "# Return a drawing of the circuit using MatPlotLib (\"mpl\"). This is the\n",
    "# last line of the cell, so the drawing appears in the cell output.\n",
    "# Remove the \"mpl\" argument to get a text drawing.\n",
    "qc.draw(\"mpl\")"
   ]
  },
  {
   "cell_type": "markdown",
   "id": "f7893a4a",
   "metadata": {},
   "source": [
    "## Noisy Intermediate-State Quantum (NISQ) devices\n",
    "\n",
    "Transpilation is the process of rewriting a given input circuit to match the topology of a specific quantum device, and/or to optimize the circuit for execution on present day noisy quantum systems.\n",
    "\n",
    "For QISKIT, the component that does this is a pass manager."
   ]
  },
  {
   "cell_type": "code",
   "execution_count": null,
   "id": "03daeed4",
   "metadata": {},
   "outputs": [],
   "source": [
    "# from qiskit_ibm_runtime import QiskitRuntimeService\n",
    "# service = QiskitRuntimeService()\n",
    "# backend = service.least_busy(simulator=False, operational=True)\n",
    "# Use the following code instead if you want to run on a simulator:\n",
    "from qiskit_ibm_runtime.fake_provider import FakeAlmadenV2\n",
    "backend = FakeAlmadenV2()\n",
    "\n",
    "# Convert to an ISA circuit and layout-mapped observables.\n",
    "from qiskit.transpiler.preset_passmanagers import generate_preset_pass_manager\n",
    "pm = generate_preset_pass_manager(backend=backend, optimization_level=1)\n",
    "isa_circuit = pm.run(qc)\n",
    "isa_circuit.draw(\"mpl\", idle_wires=False)"
   ]
  },
  {
   "cell_type": "code",
   "execution_count": null,
   "id": "fb81baf8-c2ab-42ff-86b3-331a3b20e7c6",
   "metadata": {},
   "outputs": [],
   "source": [
    "# from qiskit_ibm_runtime import QiskitRuntimeService\n",
    "# service = QiskitRuntimeService()\n",
    "# backend = service.least_busy(simulator=False, operational=True)\n",
    "from qiskit_ibm_runtime.fake_provider import FakeKyiv\n",
    "backend = FakeKyiv()\n",
    "\n",
    "# Convert to an ISA circuit and layout-mapped observables.\n",
    "pm = generate_preset_pass_manager(backend=backend, optimization_level=1)\n",
    "isa_circuit = pm.run(qc)\n",
    "isa_circuit.draw(\"mpl\", idle_wires=False)"
   ]
  },
  {
   "cell_type": "code",
   "execution_count": null,
   "id": "03900f80-f8cb-44c3-80ed-3bd73d047ad1",
   "metadata": {},
   "outputs": [],
   "source": [
    "# Set up six different observables.\n",
    "from qiskit.quantum_info import SparsePauliOp\n",
    "observables_labels = [\"IZ\", \"IX\", \"ZI\", \"XI\", \"ZZ\", \"XX\"]\n",
    "observables = [SparsePauliOp(label) for label in observables_labels]\n",
    "mapped_observables = [\n",
    "    observable.apply_layout(isa_circuit.layout) for observable in observables\n",
    "]\n",
    "\n",
    "from qiskit_ibm_runtime import EstimatorV2 as Estimator\n",
    "estimator = Estimator(backend)\n",
    "job = estimator.run([(isa_circuit, mapped_observables)])\n",
    "\n",
    "# This is the result of the entire submission.  You submitted one Pub,\n",
    "# so this contains one inner result (and some metadata of its own).\n",
    "job_result = job.result()\n",
    "\n",
    "# This is the result from our single pub, which had five observables,\n",
    "# so contains information on all five.\n",
    "pub_result = job.result()[0]# Plot the result\n",
    "values = pub_result.data.evs\n",
    "errors = pub_result.data.stds\n",
    " \n",
    "# plotting graph\n",
    "from matplotlib import pyplot as plt\n",
    "plt.plot(observables_labels, values, \"-o\")\n",
    "plt.xlabel(\"Observables\")\n",
    "plt.ylabel(\"Values\")\n",
    "plt.show()"
   ]
  }
 ],
 "metadata": {
  "kernelspec": {
   "display_name": "py313_ibm_qiskit",
   "language": "python",
   "name": "python3"
  },
  "language_info": {
   "codemirror_mode": {
    "name": "ipython",
    "version": 3
   },
   "file_extension": ".py",
   "mimetype": "text/x-python",
   "name": "python",
   "nbconvert_exporter": "python",
   "pygments_lexer": "ipython3",
   "version": "3.13.2"
  }
 },
 "nbformat": 4,
 "nbformat_minor": 5
}
